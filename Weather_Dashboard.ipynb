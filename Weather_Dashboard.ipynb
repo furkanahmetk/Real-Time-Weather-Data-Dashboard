{
 "cells": [
  {
   "cell_type": "code",
   "execution_count": null,
   "id": "17b2f019-1db2-42ea-97a7-428d497390ef",
   "metadata": {},
   "outputs": [],
   "source": [
    "import requests\n",
    "import pandas as pd\n",
    "import time\n",
    "from IPython.display import clear_output, display\n",
    "\n",
    "# Import API key from config file (make sure config.py exists in the same folder)\n",
    "from config import API_KEY\n",
    "\n",
    "BASE_URL = \"https://api.openweathermap.org/data/2.5/weather\""
   ]
  },
  {
   "cell_type": "code",
   "execution_count": null,
   "id": "c11e1073-c9dd-4136-bca8-bfaa1a8f9d73",
   "metadata": {},
   "outputs": [],
   "source": [
    "def get_weather(city, api_key=API_KEY):\n",
    "    \"\"\"Gets and process weather data for a city from OpenWeatherMap API\"\"\"\n",
    "    \n",
    "    url = f\"{BASE_URL}?q={city}&appid={api_key}\"\n",
    "    response = requests.get(url)\n",
    "    \n",
    "    if response.status_code == 200:\n",
    "        data = response.json()\n",
    "        \n",
    "        temperature_kelvin = data[\"main\"][\"temp\"]\n",
    "        temperature_celsius = temperature_kelvin - 273.15\n",
    "        humidity = data[\"main\"][\"humidity\"]\n",
    "        description = data[\"weather\"][0][\"description\"]\n",
    "        \n",
    "        return {\n",
    "            \"City\": data[\"name\"],\n",
    "            \"Temperature (°C)\": round(temperature_celsius, 2),\n",
    "            \"Humidity (%)\": humidity,\n",
    "            \"Description\": description.title()\n",
    "        }\n",
    "    else:\n",
    "        return {\"City\": city, \"Error\": f\"Status {response.status_code}\"}"
   ]
  },
  {
   "cell_type": "code",
   "execution_count": null,
   "id": "7712c254-5e46-4b05-bcd9-b5de2ebeab9b",
   "metadata": {},
   "outputs": [],
   "source": [
    "cities = [\"London\", \"Tokyo\", \"New York\", \"Paris\", \"Istanbul\", \"Sydney\", \"Moscow\"]\n",
    "\n",
    "# Run continuously (press the stop button in Jupyter to interrupt)\n",
    "while True:\n",
    "    weather_data_list = []\n",
    "    \n",
    "    for city in cities:\n",
    "        info = get_weather(city)\n",
    "        #print(\"debug info: \", info)\n",
    "        if info:\n",
    "            weather_data_list.append(info)\n",
    "    \n",
    "    df = pd.DataFrame(weather_data_list)\n",
    "    \n",
    "    clear_output(wait=True)  # clears previous output\n",
    "    display(df)  # show updated DataFrame\n",
    "    \n",
    "    time.sleep(1)  # wait 1 second before refreshing\n"
   ]
  },
  {
   "cell_type": "code",
   "execution_count": null,
   "id": "4f6530f3-d06d-4183-807c-c5511a0fd829",
   "metadata": {},
   "outputs": [],
   "source": []
  }
 ],
 "metadata": {
  "kernelspec": {
   "display_name": "Python 3 (ipykernel)",
   "language": "python",
   "name": "python3"
  },
  "language_info": {
   "codemirror_mode": {
    "name": "ipython",
    "version": 3
   },
   "file_extension": ".py",
   "mimetype": "text/x-python",
   "name": "python",
   "nbconvert_exporter": "python",
   "pygments_lexer": "ipython3",
   "version": "3.12.3"
  }
 },
 "nbformat": 4,
 "nbformat_minor": 5
}
